{
 "cells": [
  {
   "cell_type": "code",
   "execution_count": 3,
   "metadata": {},
   "outputs": [
    {
     "name": "stdout",
     "output_type": "stream",
     "text": [
      "The autoreload extension is already loaded. To reload it, use:\n",
      "  %reload_ext autoreload\n"
     ]
    }
   ],
   "source": [
    "%matplotlib inline\n",
    "%load_ext autoreload\n",
    "%autoreload 2\n",
    "import tensorflow as tf\n",
    "import numpy as np\n",
    "import math\n",
    "import matplotlib\n",
    "#matplotlib.use(\"Agg\")\n",
    "import matplotlib.image as mpimg\n",
    "import glob\n",
    "from data_utils import load_data, rgb2gray\n",
    "import matplotlib.pyplot as plt\n",
    "from models import complex_pokemon_model2\n"
   ]
  },
  {
   "cell_type": "code",
   "execution_count": 6,
   "metadata": {},
   "outputs": [
    {
     "name": "stdout",
     "output_type": "stream",
     "text": [
      "loading 0\n",
      "file_name ../val_256/Places365_val_00011907.jpg is invalid\n",
      "file_name ../val_256/Places365_val_00006664.jpg is invalid\n",
      "file_name ../val_256/Places365_val_00015426.jpg is invalid\n",
      "file_name ../val_256/Places365_val_00004517.jpg is invalid\n",
      "(998, 256, 256, 3)\n",
      "Shape of data_train, data_test: (798, 256, 256, 3) (200, 256, 256, 3)\n"
     ]
    }
   ],
   "source": [
    "Y_train, Y_test = load_data()"
   ]
  },
  {
   "cell_type": "code",
   "execution_count": null,
   "metadata": {},
   "outputs": [
    {
     "name": "stdout",
     "output_type": "stream",
     "text": [
      "(798, 256, 256, 3)\n"
     ]
    }
   ],
   "source": [
    "tf.reset_default_graph()\n",
    "\n",
    "Y = tf.placeholder(tf.uint8 ,[None , 256,256,3])\n",
    "is_training = tf.placeholder(tf.bool)\n",
    "\n",
    "def show_images(images,gray = False):\n",
    "    if(gray):\n",
    "        plt.imshow(images,cmap = plt.get_cmap('gray'))\n",
    "    else :\n",
    "        plt.imshow(images);\n",
    "    plt.show()\n",
    "\n",
    "print (Y_train.shape)\n",
    "\n",
    "with tf.variable_scope(\"model\") as scope:\n",
    "    hsv_out,rgb_out,hsv_in,rgb_in = complex_pokemon_model2(Y,is_training)\n",
    "    loss = tf.reduce_mean(tf.square(hsv_out-hsv_in))\n",
    "    optimiser = tf.train.AdamOptimizer(3e-3)\n",
    "    train_step = optimiser.minimize(loss)\n",
    "\n",
    "sess = tf.Session()\n",
    "sess.run(tf.global_variables_initializer())\n",
    "\n",
    "batch_size = 12\n",
    "epoch_number = 0\n",
    "def train_epoch(target):\n",
    "    sizee = target.shape[0]\n",
    "    for i in range(sizee//batch_size):\n",
    "        feed_dict = {Y: (target[i*batch_size:batch_size*i+batch_size]),is_training:True}\n",
    "        losses,_,rgb_o,rgb_i = sess.run([loss,train_step,rgb_out,rgb_in],feed_dict)\n",
    "        print (losses)\n",
    "        if(i%100 == 0):\n",
    "            \n",
    "            show_images(rgb_o[5])\n",
    "            show_images(rgb_i[5])\n",
    "\n",
    "def val_result(data, target):\n",
    "    sizee = data.shape[0]\n",
    "    for i in range(sizee//batch_size):\n",
    "        feed_dict = {Y:  (target[i*batch_size:batch_size*i+batch_size]),\n",
    "                     X: data[i*batch_size:batch_size*i+batch_size],is_training:False}\n",
    "        losses = sess.run([loss_test,rgb_out],feed_dict)\n",
    "        if(i%5 ==0):\n",
    "            print (losses)\n",
    "\n",
    "num_epochs = 5\n",
    "for i in range(num_epochs):\n",
    "    epoch_number = i\n",
    "    train_epoch(Y_train)\n",
    "    print (\"Next Epoch\",i)\n",
    "    \n",
    "    #val_result(X_test, Y_test)"
   ]
  },
  {
   "cell_type": "code",
   "execution_count": null,
   "metadata": {},
   "outputs": [],
   "source": []
  }
 ],
 "metadata": {
  "kernelspec": {
   "display_name": "Python 3",
   "language": "python",
   "name": "python3"
  },
  "language_info": {
   "codemirror_mode": {
    "name": "ipython",
    "version": 3
   },
   "file_extension": ".py",
   "mimetype": "text/x-python",
   "name": "python",
   "nbconvert_exporter": "python",
   "pygments_lexer": "ipython3",
   "version": "3.6.4"
  }
 },
 "nbformat": 4,
 "nbformat_minor": 2
}
