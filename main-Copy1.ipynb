{
 "cells": [
  {
   "cell_type": "code",
   "execution_count": 1,
   "metadata": {
    "scrolled": true
   },
   "outputs": [],
   "source": [
    "\n",
    "# coding: utf-8\n",
    "\n",
    "# In[ ]:\n",
    "\n",
    "\n",
    "from __future__ import print_function\n",
    "\n",
    "__author__ = \"shekkizh\"\n",
    "'''\n",
    "Tensorflow implemenation of Image colorization using Adversarial loss\n",
    "'''\n",
    "import tensorflow as tf\n",
    "import numpy as np\n",
    "\n",
    "import TensorflowUtils as utils\n",
    "import read_LaMemDataset as lamem\n",
    "import read_FlowersDataset as flowers\n",
    "import datetime\n",
    "import BatchDatsetReader as dataset\n",
    "from six.moves import xrange\n",
    "import os\n",
    "\n",
    "FLAGS = tf.flags.FLAGS\n",
    "tf.flags.DEFINE_integer(\"batch_size\", \"16\", \"batch size for training\")\n",
    "tf.flags.DEFINE_string(\"logs_dir\", \"logs/\", \"path to logs directory\")\n",
    "tf.flags.DEFINE_string(\"data_dir\", \"Data_zoo/flower/\", \"path to dataset\")\n",
    "tf.flags.DEFINE_float(\"learning_rate\", \"1e-4\", \"Learning rate for Adam Optimizer\")\n",
    "tf.flags.DEFINE_float(\"beta1\", \"0.9\", \"Beta 1 value to use in Adam Optimizer\")\n",
    "tf.flags.DEFINE_string(\"model_dir\", \"Model_zoo/\", \"Path to vgg model mat\")\n",
    "tf.flags.DEFINE_bool('debug', \"False\", \"Debug mode: True/ False\")\n",
    "tf.flags.DEFINE_string('mode', \"train\", \"Mode train/ test\")\n",
    "tf.flags.DEFINE_bool('restore_model', \"False\", \"Restore Model: True/ False\")\n",
    "\n",
    "MODEL_URL = 'http://www.vlfeat.org/matconvnet/models/beta16/imagenet-vgg-verydeep-19.mat'\n",
    "\n",
    "MAX_ITERATION = int(1e5 + 1)\n",
    "IMAGE_SIZE = 256\n",
    "ADVERSARIAL_LOSS_WEIGHT = 1e-3\n",
    "\n",
    "\n",
    "def vgg_net(weights, image):\n",
    "    layers = (\n",
    "        # 'conv1_1', 'relu1_1',\n",
    "        'conv1_2', 'relu1_2', 'pool1',\n",
    "\n",
    "        'conv2_1', 'relu2_1', 'conv2_2', 'relu2_2', 'pool2',\n",
    "\n",
    "        'conv3_1', 'relu3_1', 'conv3_2', 'relu3_2', 'conv3_3',\n",
    "        'relu3_3', 'conv3_4', 'relu3_4', 'pool3',\n",
    "\n",
    "        'conv4_1', 'relu4_1', 'conv4_2', 'relu4_2', 'conv4_3',\n",
    "        'relu4_3', 'conv4_4', 'relu4_4', 'pool4',\n",
    "\n",
    "        'conv5_1', 'relu5_1', 'conv5_2', 'relu5_2', 'conv5_3',\n",
    "        'relu5_3', 'conv5_4', 'relu5_4'\n",
    "    )\n",
    "\n",
    "    net = {}\n",
    "    current = image\n",
    "    for i, name in enumerate(layers):\n",
    "        kind = name[:4]\n",
    "        if kind == 'conv':\n",
    "            kernels, bias = weights[i + 2][0][0][0][0]\n",
    "            # matconvnet: weights are [width, height, in_channels, out_channels]\n",
    "            # tensorflow: weights are [height, width, in_channels, out_channels]\n",
    "            kernels = utils.get_variable(np.transpose(kernels, (1, 0, 2, 3)), name=name + \"_w\")\n",
    "            bias = utils.get_variable(bias.reshape(-1), name=name + \"_b\")\n",
    "            current = utils.conv2d_basic(current, kernels, bias)\n",
    "        elif kind == 'relu':\n",
    "            current = tf.nn.relu(current, name=name)\n",
    "            if FLAGS.debug:\n",
    "                utils.add_activation_summary(current)\n",
    "        elif kind == 'pool':\n",
    "            current = utils.avg_pool_2x2(current)\n",
    "        net[name] = current\n",
    "\n",
    "    return net\n",
    "\n",
    "\n",
    "def generator(images, train_phase):\n",
    "    print(\"setting up vgg initialized conv layers ...\")\n",
    "    model_data = utils.get_model_data(FLAGS.model_dir, MODEL_URL)\n",
    "\n",
    "    weights = np.squeeze(model_data['layers'])\n",
    "\n",
    "    with tf.variable_scope(\"generator\") as scope:\n",
    "        W0 = utils.weight_variable([3, 3, 1, 64], name=\"W0\")\n",
    "        b0 = utils.bias_variable([64], name=\"b0\")\n",
    "        conv0 = utils.conv2d_basic(images, W0, b0)\n",
    "        hrelu0 = tf.nn.relu(conv0, name=\"relu\")\n",
    "\n",
    "        image_net = vgg_net(weights, hrelu0)\n",
    "        vgg_final_layer = image_net[\"relu5_3\"]\n",
    "\n",
    "        pool5 = utils.max_pool_2x2(vgg_final_layer)\n",
    "\n",
    "        # now to upscale to actual image size\n",
    "        deconv_shape1 = image_net[\"pool4\"].get_shape()\n",
    "        W_t1 = utils.weight_variable([4, 4, deconv_shape1[3].value, pool5.get_shape()[3].value], name=\"W_t1\")\n",
    "        b_t1 = utils.bias_variable([deconv_shape1[3].value], name=\"b_t1\")\n",
    "        conv_t1 = utils.conv2d_transpose_strided(pool5, W_t1, b_t1, output_shape=tf.shape(image_net[\"pool4\"]))\n",
    "        fuse_1 = tf.add(conv_t1, image_net[\"pool4\"], name=\"fuse_1\")\n",
    "\n",
    "        deconv_shape2 = image_net[\"pool3\"].get_shape()\n",
    "        W_t2 = utils.weight_variable([4, 4, deconv_shape2[3].value, deconv_shape1[3].value], name=\"W_t2\")\n",
    "        b_t2 = utils.bias_variable([deconv_shape2[3].value], name=\"b_t2\")\n",
    "        conv_t2 = utils.conv2d_transpose_strided(fuse_1, W_t2, b_t2, output_shape=tf.shape(image_net[\"pool3\"]))\n",
    "        fuse_2 = tf.add(conv_t2, image_net[\"pool3\"], name=\"fuse_2\")\n",
    "\n",
    "        shape = tf.shape(images)\n",
    "        deconv_shape3 = tf.stack([shape[0], shape[1], shape[2], 2])\n",
    "        W_t3 = utils.weight_variable([16, 16, 2, deconv_shape2[3].value], name=\"W_t3\")\n",
    "        b_t3 = utils.bias_variable([2], name=\"b_t3\")\n",
    "        pred = utils.conv2d_transpose_strided(fuse_2, W_t3, b_t3, output_shape=deconv_shape3, stride=8)\n",
    "\n",
    "    return tf.concat(axis=3, values=[images, pred], name=\"pred_image\")\n",
    "\n",
    "\n",
    "def train(loss, var_list):\n",
    "    optimizer = tf.train.AdamOptimizer(FLAGS.learning_rate, beta1=FLAGS.beta1)\n",
    "    grads = optimizer.compute_gradients(loss, var_list=var_list)\n",
    "    for grad, var in grads:\n",
    "        utils.add_gradient_summary(grad, var)\n",
    "    return optimizer.apply_gradients(grads)\n",
    "\n",
    "\n"
   ]
  },
  {
   "cell_type": "code",
   "execution_count": null,
   "metadata": {},
   "outputs": [],
   "source": [
    "\n",
    "print(\"Setting up network...\")\n",
    "train_phase = tf.placeholder(tf.bool, name=\"train_phase\")\n",
    "images = tf.placeholder(tf.float32, shape=[None, None, None, 1], name='L_image')\n",
    "lab_images = tf.placeholder(tf.float32, shape=[None, None, None, 3], name=\"LAB_image\")\n",
    "\n",
    "pred_image = generator(images, train_phase)\n",
    "\n",
    "gen_loss_mse = tf.reduce_mean(2 * tf.nn.l2_loss(pred_image - lab_images)) / (IMAGE_SIZE * IMAGE_SIZE * 100 * 100)\n",
    "tf.summary.scalar(\"Generator_loss_MSE\", gen_loss_mse)\n",
    "\n",
    "train_variables = tf.trainable_variables()\n",
    "for v in train_variables:\n",
    "    utils.add_to_regularization_and_summary(var=v)\n",
    "\n",
    "train_op = train(gen_loss_mse, train_variables)\n",
    "\n",
    "print(\"Reading image dataset...\")\n",
    "train_images, testing_images, validation_images = flowers.read_dataset(FLAGS.data_dir)\n",
    "#train_images = lamem.read_dataset(FLAGS.data_dir)\n",
    "image_options = {\"resize\": True, \"resize_size\": IMAGE_SIZE, \"color\": \"LAB\"}\n",
    "batch_reader = dataset.BatchDatset(train_images, image_options)\n",
    "\n",
    "print(\"Setting up session\")\n",
    "sess = tf.Session()\n",
    "summary_op = tf.summary.merge_all()\n",
    "saver = tf.train.Saver()\n",
    "summary_writer = tf.summary.FileWriter(FLAGS.logs_dir, sess.graph)\n",
    "sess.run(tf.global_variables_initializer())\n",
    "\n",
    "if FLAGS.restore_model:\n",
    "    ckpt = tf.train.get_checkpoint_state(FLAGS.logs_dir)\n",
    "    if ckpt and ckpt.model_checkpoint_path:\n",
    "        saver.restore(sess, ckpt.model_checkpoint_path)\n",
    "        print(\"Model restored...\")\n",
    "\n",
    "if FLAGS.mode == 'train':\n",
    "    for itr in xrange(MAX_ITERATION):\n",
    "        l_image, color_images = batch_reader.next_batch(FLAGS.batch_size)\n",
    "        feed_dict = {images: l_image, lab_images: color_images, train_phase: True}\n",
    "\n",
    "        if itr % 10 == 0:\n",
    "            mse, summary_str = sess.run([gen_loss_mse, summary_op], feed_dict=feed_dict)\n",
    "            summary_writer.add_summary(summary_str, itr)\n",
    "            print(\"Step: %d, MSE: %g\" % (itr, mse))\n",
    "\n",
    "        if itr % 100 == 0:\n",
    "            saver.save(sess, FLAGS.logs_dir + \"model.ckpt\", itr)\n",
    "            pred = sess.run(pred_image, feed_dict=feed_dict)\n",
    "            idx = np.random.randint(0, FLAGS.batch_size)\n",
    "            save_dir = os.path.join(FLAGS.logs_dir, \"image_checkpoints\")\n",
    "            utils.save_image(color_images[idx], save_dir, \"gt\" + str(itr // 100))\n",
    "            utils.save_image(pred[idx].astype(np.float64), save_dir, \"pred\" + str(itr // 100))\n",
    "            print(\"%s --> Model saved\" % datetime.datetime.now())\n",
    "\n",
    "        sess.run(train_op, feed_dict=feed_dict)\n",
    "\n",
    "        if itr % 10000 == 0:\n",
    "            FLAGS.learning_rate /= 2\n",
    "elif FLAGS.mode == \"test\":\n",
    "    count = 10\n",
    "    l_image, color_images = batch_reader.get_random_batch(count)\n",
    "    feed_dict = {images: l_image, lab_images: color_images, train_phase: False}\n",
    "    save_dir = os.path.join(FLAGS.logs_dir, \"image_pred\")\n",
    "    pred = sess.run(pred_image, feed_dict=feed_dict)\n",
    "    for itr in range(count):\n",
    "        utils.save_image(color_images[itr], save_dir, \"gt\" + str(itr))\n",
    "        utils.save_image(pred[itr].astype(np.float64), save_dir, \"pred\" + str(itr))\n",
    "    print(\"--- Images saved on test run ---\")\n",
    "\n",
    "elif FLAG.mode == \"validate\":\n",
    "    ckpt = tf.train.get_checkpoint_state(FLAGS.logs_dir)\n",
    "    if ckpt and ckpt.model_checkpoint_path:\n",
    "        saver.restore(sess, ckpt.model_checkpoint_path)\n",
    "        print(\"Model restored...\")\n",
    "    image_options = {\"resize\": True, \"resize_size\": IMAGE_SIZE, \"color\": \"LAB\"}\n",
    "    batch_reader = dataset.BatchDatset(validation_images, image_options)\n",
    "    batch_reader.reset_batch_offset()\n",
    "    loss = 0.0\n",
    "    for i in range(int(len(validation_images)/FLAGS.batch_size))\n",
    "        l_image, color_images = batch_reader.next_batch(FLAGS.batch_size)\n",
    "        feed_dict = {images: l_image, lab_images: color_images, train_phase: False}\n",
    "        loss_ = sess.run(gen_loss_mse, feed_dict=feed_dict)\n",
    "        loss += loss_*1.0 / len(validation_images)/FLAGS.batch_size\n",
    "    print(\"Validation Set MSE: %g\" % (loss))\n",
    "\n",
    "\n"
   ]
  },
  {
   "cell_type": "code",
   "execution_count": 3,
   "metadata": {},
   "outputs": [
    {
     "ename": "SystemExit",
     "evalue": "",
     "output_type": "error",
     "traceback": [
      "An exception has occurred, use %tb to see the full traceback.\n",
      "\u001b[0;31mSystemExit\u001b[0m\n"
     ]
    },
    {
     "name": "stderr",
     "output_type": "stream",
     "text": [
      "/Users/cyrus/anaconda2/envs/py36/lib/python3.6/site-packages/IPython/core/interactiveshell.py:2918: UserWarning: To exit: use 'exit', 'quit', or Ctrl-D.\n",
      "  warn(\"To exit: use 'exit', 'quit', or Ctrl-D.\", stacklevel=1)\n"
     ]
    }
   ],
   "source": [
    "def main(argv=None):\n",
    "    pass\n",
    "tf.app.run()"
   ]
  },
  {
   "cell_type": "code",
   "execution_count": 4,
   "metadata": {},
   "outputs": [
    {
     "name": "stdout",
     "output_type": "stream",
     "text": [
      "Setting up network...\n",
      "setting up vgg initialized conv layers ...\n"
     ]
    }
   ],
   "source": [
    "print(\"Setting up network...\")\n",
    "train_phase = tf.placeholder(tf.bool, name=\"train_phase\")\n",
    "images = tf.placeholder(tf.float32, shape=[None, None, None, 1], name='L_image')\n",
    "lab_images = tf.placeholder(tf.float32, shape=[None, None, None, 3], name=\"LAB_image\")\n",
    "\n",
    "pred_image = generator(images, train_phase)\n",
    "\n",
    "gen_loss_mse = tf.reduce_mean(2 * tf.nn.l2_loss(pred_image - lab_images)) / (IMAGE_SIZE * IMAGE_SIZE * 100 * 100)\n",
    "tf.summary.scalar(\"Generator_loss_MSE\", gen_loss_mse)\n",
    "\n",
    "train_variables = tf.trainable_variables()\n",
    "for v in train_variables:\n",
    "    utils.add_to_regularization_and_summary(var=v)\n",
    "\n",
    "train_op = train(gen_loss_mse, train_variables)\n",
    "\n",
    "\n"
   ]
  },
  {
   "cell_type": "code",
   "execution_count": null,
   "metadata": {},
   "outputs": [],
   "source": [
    "print(\"Reading image dataset...\")\n",
    "train_images, testing_images, validation_images = flowers.read_dataset(FLAGS.data_dir)\n",
    "#train_images = lamem.read_dataset(FLAGS.data_dir)\n",
    "image_options = {\"resize\": True, \"resize_size\": IMAGE_SIZE, \"color\": \"LAB\"}\n",
    "batch_reader = dataset.BatchDatset(train_images, image_options)\n"
   ]
  },
  {
   "cell_type": "code",
   "execution_count": 5,
   "metadata": {},
   "outputs": [
    {
     "name": "stdout",
     "output_type": "stream",
     "text": [
      "Setting up session\n",
      "INFO:tensorflow:Restoring parameters from logs/model.ckpt-100000\n",
      "Model restored...\n"
     ]
    }
   ],
   "source": [
    "print(\"Setting up session\")\n",
    "sess = tf.Session()\n",
    "summary_op = tf.summary.merge_all()\n",
    "saver = tf.train.Saver()\n",
    "summary_writer = tf.summary.FileWriter(FLAGS.logs_dir, sess.graph)\n",
    "sess.run(tf.global_variables_initializer())\n",
    "\n",
    "ckpt = tf.train.get_checkpoint_state(FLAGS.logs_dir)\n",
    "if ckpt and ckpt.model_checkpoint_path:\n",
    "    saver.restore(sess, ckpt.model_checkpoint_path)\n",
    "    print(\"Model restored...\")"
   ]
  },
  {
   "cell_type": "code",
   "execution_count": 6,
   "metadata": {},
   "outputs": [
    {
     "name": "stdout",
     "output_type": "stream",
     "text": [
      "Validation Set MSE: 0.211957\n"
     ]
    }
   ],
   "source": [
    "\n",
    "loss = 0.0\n",
    "for i in range(int(len(validation_images)/FLAGS.batch_size)):\n",
    "    l_image, color_images = batch_reader.next_batch(FLAGS.batch_size)\n",
    "    feed_dict = {images: l_image, lab_images: color_images, train_phase: False}\n",
    "    loss_ = sess.run(gen_loss_mse, feed_dict=feed_dict)\n",
    "    loss += loss_*1.0 / (len(validation_images)/FLAGS.batch_size)\n",
    "print(\"Validation Set MSE: %g\" % (loss))\n"
   ]
  },
  {
   "cell_type": "code",
   "execution_count": 7,
   "metadata": {},
   "outputs": [
    {
     "name": "stderr",
     "output_type": "stream",
     "text": [
      "/Users/cyrus/anaconda2/envs/py36/lib/python3.6/site-packages/skimage/util/dtype.py:122: UserWarning: Possible precision loss when converting from float64 to uint8\n",
      "  .format(dtypeobj_in, dtypeobj_out))\n",
      "/Users/cyrus/anaconda2/envs/py36/lib/python3.6/site-packages/skimage/color/colorconv.py:985: UserWarning: Color data out of range: Z < 0 in 9 pixels\n",
      "  warn('Color data out of range: Z < 0 in %s pixels' % invalid[0].size)\n",
      "/Users/cyrus/anaconda2/envs/py36/lib/python3.6/site-packages/skimage/color/colorconv.py:985: UserWarning: Color data out of range: Z < 0 in 6 pixels\n",
      "  warn('Color data out of range: Z < 0 in %s pixels' % invalid[0].size)\n",
      "/Users/cyrus/anaconda2/envs/py36/lib/python3.6/site-packages/skimage/color/colorconv.py:985: UserWarning: Color data out of range: Z < 0 in 63 pixels\n",
      "  warn('Color data out of range: Z < 0 in %s pixels' % invalid[0].size)\n",
      "/Users/cyrus/anaconda2/envs/py36/lib/python3.6/site-packages/skimage/color/colorconv.py:985: UserWarning: Color data out of range: Z < 0 in 21 pixels\n",
      "  warn('Color data out of range: Z < 0 in %s pixels' % invalid[0].size)\n"
     ]
    },
    {
     "name": "stdout",
     "output_type": "stream",
     "text": [
      "--- Images saved on test run ---\n"
     ]
    },
    {
     "name": "stderr",
     "output_type": "stream",
     "text": [
      "/Users/cyrus/anaconda2/envs/py36/lib/python3.6/site-packages/skimage/color/colorconv.py:985: UserWarning: Color data out of range: Z < 0 in 1 pixels\n",
      "  warn('Color data out of range: Z < 0 in %s pixels' % invalid[0].size)\n"
     ]
    }
   ],
   "source": [
    "count = 10\n",
    "l_image, color_images = batch_reader.get_random_batch(count)\n",
    "feed_dict = {images: l_image, lab_images: color_images, train_phase: False}\n",
    "save_dir = os.path.join(FLAGS.logs_dir, \"image_pred\")\n",
    "pred = sess.run(pred_image, feed_dict=feed_dict)\n",
    "for itr in range(count):\n",
    "    utils.save_image(color_images[itr], save_dir, \"gt\" + str(itr))\n",
    "    utils.save_image(pred[itr].astype(np.float64), save_dir, \"pred\" + str(itr))\n",
    "print(\"--- Images saved on test run ---\")\n"
   ]
  },
  {
   "cell_type": "code",
   "execution_count": 6,
   "metadata": {},
   "outputs": [
    {
     "name": "stdout",
     "output_type": "stream",
     "text": [
      "loading 0\n",
      "file_name ../val_256/Places365_val_00011907.jpg is invalid\n",
      "file_name ../val_256/Places365_val_00006664.jpg is invalid\n",
      "file_name ../val_256/Places365_val_00015426.jpg is invalid\n",
      "file_name ../val_256/Places365_val_00004517.jpg is invalid\n",
      "Training: 799, Validation: 199, Test: 0\n",
      "Initializing Batch Dataset Reader...\n",
      "{'resize': True, 'resize_size': 256, 'color': 'LAB'}\n",
      "(799, 256, 256, 3)\n"
     ]
    }
   ],
   "source": [
    "import read_Places as place\n",
    "train_images, testing_images, validation_images = place.read_dataset(\"../val_256\")\n",
    "image_options = {\"resize\": True, \"resize_size\": IMAGE_SIZE, \"color\": \"LAB\"}\n",
    "batch_reader = dataset.BatchDatset(train_images, image_options)"
   ]
  },
  {
   "cell_type": "code",
   "execution_count": null,
   "metadata": {},
   "outputs": [],
   "source": []
  }
 ],
 "metadata": {
  "kernelspec": {
   "display_name": "Python 3",
   "language": "python",
   "name": "python3"
  },
  "language_info": {
   "codemirror_mode": {
    "name": "ipython",
    "version": 3
   },
   "file_extension": ".py",
   "mimetype": "text/x-python",
   "name": "python",
   "nbconvert_exporter": "python",
   "pygments_lexer": "ipython3",
   "version": "3.6.4"
  }
 },
 "nbformat": 4,
 "nbformat_minor": 2
}
